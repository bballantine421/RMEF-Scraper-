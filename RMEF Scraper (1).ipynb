{
 "cells": [
  {
   "cell_type": "code",
   "execution_count": 1,
   "id": "fbacb135",
   "metadata": {},
   "outputs": [
    {
     "name": "stdout",
     "output_type": "stream",
     "text": [
      "Comments saved to youtube_comments.csv\n"
     ]
    }
   ],
   "source": [
    "import pandas as pd\n",
    "from youtube_comment_downloader import YoutubeCommentDownloader\n",
    "\n",
    "# Specify the video URL or video ID\n",
    "video_url = 'https://www.youtube.com/watch?v=ba6SK9-Bmio'\n",
    "\n",
    "# Extract the video ID from the URL\n",
    "video_id = video_url.split(\"v=\")[1]\n",
    "\n",
    "# Initialize the downloader\n",
    "downloader = YoutubeCommentDownloader()\n",
    "\n",
    "# Retrieve comments and store them in a list of dictionaries\n",
    "comments_list = []\n",
    "for comment in downloader.get_comments(video_id):\n",
    "    comments_list.append({'username': comment.get('author'), 'comment': comment.get('text')})\n",
    "\n",
    "# Create a DataFrame from the list of comments\n",
    "df = pd.DataFrame(comments_list)\n",
    "\n",
    "# Save the DataFrame to a CSV file\n",
    "df.to_csv(\"youtube_comments.csv\", index=False)\n",
    "\n",
    "print(\"Comments saved to youtube_comments.csv\")\n"
   ]
  }
 ],
 "metadata": {
  "kernelspec": {
   "display_name": "Python 3 (ipykernel)",
   "language": "python",
   "name": "python3"
  },
  "language_info": {
   "codemirror_mode": {
    "name": "ipython",
    "version": 3
   },
   "file_extension": ".py",
   "mimetype": "text/x-python",
   "name": "python",
   "nbconvert_exporter": "python",
   "pygments_lexer": "ipython3",
   "version": "3.9.12"
  }
 },
 "nbformat": 4,
 "nbformat_minor": 5
}
